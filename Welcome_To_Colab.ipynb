{
  "cells": [
    {
      "cell_type": "markdown",
      "metadata": {
        "id": "view-in-github",
        "colab_type": "text"
      },
      "source": [
        "<a href=\"https://colab.research.google.com/github/firecode2099/Algotithms/blob/main/Welcome_To_Colab.ipynb\" target=\"_parent\"><img src=\"https://colab.research.google.com/assets/colab-badge.svg\" alt=\"Open In Colab\"/></a>"
      ]
    },
    {
      "cell_type": "code",
      "source": [
        "import tensorflow  as tf\n",
        "import numpy as np\n",
        "\n"
      ],
      "metadata": {
        "id": "azhhCg_VLA5T"
      },
      "execution_count": 6,
      "outputs": []
    },
    {
      "cell_type": "code",
      "source": [
        "celcius=np.array([-40,-10,0,8,15,22,38],dtype=float)\n",
        "farenhait=np.array([-40,14,32,46,59,72,100],dtype=float)"
      ],
      "metadata": {
        "id": "57UeICXdLmWP"
      },
      "execution_count": 8,
      "outputs": []
    },
    {
      "cell_type": "code",
      "source": [
        "capa=tf.keras.layers.Dense(units=1,input_shape=[1])\n",
        "modelo=tf.keras.Sequential([capa])"
      ],
      "metadata": {
        "id": "EcCrPW-RM8Rw",
        "outputId": "b79bd991-81ab-4ebc-a5c8-6f26df9ca9f9",
        "colab": {
          "base_uri": "https://localhost:8080/"
        }
      },
      "execution_count": 9,
      "outputs": [
        {
          "output_type": "stream",
          "name": "stderr",
          "text": [
            "/usr/local/lib/python3.11/dist-packages/keras/src/layers/core/dense.py:87: UserWarning: Do not pass an `input_shape`/`input_dim` argument to a layer. When using Sequential models, prefer using an `Input(shape)` object as the first layer in the model instead.\n",
            "  super().__init__(activity_regularizer=activity_regularizer, **kwargs)\n"
          ]
        }
      ]
    },
    {
      "cell_type": "code",
      "source": [
        "modelo.compile(\n",
        "    optimizer=tf.keras.optimizers.Adam(),\n",
        "     loss=\"mean_squared_error\"\n",
        ")"
      ],
      "metadata": {
        "id": "uoRHixlENrSx"
      },
      "execution_count": 10,
      "outputs": []
    },
    {
      "cell_type": "code",
      "source": [
        "print(\"Comienza entrenamiento....\")\n",
        "\n",
        "historial=modelo.fit(celcius,farenhait,epochs=1000, verbose=False)\n",
        "print(\" entrenamiento finalizado....\")\n"
      ],
      "metadata": {
        "id": "OIfKlJMeOoOI",
        "outputId": "9bb78139-459a-486f-bbe8-d14e587df90e",
        "colab": {
          "base_uri": "https://localhost:8080/"
        }
      },
      "execution_count": 12,
      "outputs": [
        {
          "output_type": "stream",
          "name": "stdout",
          "text": [
            "Comienza entrenamiento....\n",
            " entrenamiento finalizado....\n"
          ]
        }
      ]
    }
  ],
  "metadata": {
    "colab": {
      "name": "Welcome To Colab",
      "toc_visible": true,
      "provenance": [],
      "include_colab_link": true
    },
    "kernelspec": {
      "display_name": "Python 3",
      "name": "python3"
    }
  },
  "nbformat": 4,
  "nbformat_minor": 0
}