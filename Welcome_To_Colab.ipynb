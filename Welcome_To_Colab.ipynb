{
  "cells": [
    {
      "cell_type": "markdown",
      "metadata": {
        "id": "view-in-github",
        "colab_type": "text"
      },
      "source": [
        "<a href=\"https://colab.research.google.com/github/firecode2099/Algotithms/blob/main/Welcome_To_Colab.ipynb\" target=\"_parent\"><img src=\"https://colab.research.google.com/assets/colab-badge.svg\" alt=\"Open In Colab\"/></a>"
      ]
    },
    {
      "cell_type": "code",
      "source": [
        "#This tutorial is from Ringa Tech 14/4/25\n",
        "#https://www.youtube.com/@RingaTech\n",
        "#Machine learning basic Phyton\n",
        "\n",
        "import tensorflow  as tf\n",
        "import numpy as np\n"
      ],
      "metadata": {
        "id": "azhhCg_VLA5T"
      },
      "execution_count": 62,
      "outputs": []
    },
    {
      "cell_type": "code",
      "source": [
        "celcius=np.array([-40,-10,0,8,15,22,38],dtype=float)\n",
        "farenhait=np.array([-40,14,32,46,59,72,100],dtype=float)"
      ],
      "metadata": {
        "id": "57UeICXdLmWP"
      },
      "execution_count": 34,
      "outputs": []
    },
    {
      "cell_type": "code",
      "source": [
        "capa=tf.keras.layers.Dense(units=1,input_shape=[1])\n",
        "modelo=tf.keras.Sequential([capa])"
      ],
      "metadata": {
        "colab": {
          "base_uri": "https://localhost:8080/"
        },
        "id": "EcCrPW-RM8Rw",
        "outputId": "bbe99bb5-f7d8-487d-e6d1-4809da1f9296"
      },
      "execution_count": 35,
      "outputs": [
        {
          "output_type": "stream",
          "name": "stderr",
          "text": [
            "/usr/local/lib/python3.11/dist-packages/keras/src/layers/core/dense.py:87: UserWarning: Do not pass an `input_shape`/`input_dim` argument to a layer. When using Sequential models, prefer using an `Input(shape)` object as the first layer in the model instead.\n",
            "  super().__init__(activity_regularizer=activity_regularizer, **kwargs)\n"
          ]
        }
      ]
    },
    {
      "cell_type": "code",
      "source": [
        "modelo.compile(\n",
        "    optimizer=tf.keras.optimizers.Adam(0.1),\n",
        "     loss=\"mean_squared_error\"\n",
        ")"
      ],
      "metadata": {
        "id": "uoRHixlENrSx"
      },
      "execution_count": 37,
      "outputs": []
    },
    {
      "cell_type": "code",
      "source": [
        "print(\"Comienza entrenamiento....\")\n",
        "\n",
        "historial=modelo.fit(celcius,farenhait,epochs=1000, verbose=False)\n",
        "print(\" entrenamiento finalizado....\")\n"
      ],
      "metadata": {
        "colab": {
          "base_uri": "https://localhost:8080/"
        },
        "id": "OIfKlJMeOoOI",
        "outputId": "c292fdeb-7d8b-490f-c533-3c0878e41789"
      },
      "execution_count": 51,
      "outputs": [
        {
          "output_type": "stream",
          "name": "stdout",
          "text": [
            "Comienza entrenamiento....\n",
            " entrenamiento finalizado....\n"
          ]
        }
      ]
    },
    {
      "cell_type": "code",
      "source": [
        "print('Realizando una prediccion.')\n",
        "print('\\nColoca un numero en Celcius ')\n",
        "f=float(input())\n",
        "input_data = np.array([[f]])\n",
        "\n",
        "resultado = modelo.predict(input_data)\n",
        "\n",
        "print('El resultado es: '+ str(resultado) + ' fahrenheit')\n",
        "\n",
        "\n",
        "\n"
      ],
      "metadata": {
        "colab": {
          "base_uri": "https://localhost:8080/"
        },
        "id": "VGWmcxRdRZEH",
        "outputId": "b4a9f654-9d19-4b9e-8d4a-7d593cdce4ce"
      },
      "execution_count": 64,
      "outputs": [
        {
          "output_type": "stream",
          "name": "stdout",
          "text": [
            "Realizando una prediccion.\n",
            "\n",
            "Coloca un numero en Celcius \n",
            "10\n",
            "\u001b[1m1/1\u001b[0m \u001b[32m━━━━━━━━━━━━━━━━━━━━\u001b[0m\u001b[37m\u001b[0m \u001b[1m0s\u001b[0m 43ms/step\n",
            "El resultado es: [[49.93197]] fahrenheit\n"
          ]
        }
      ]
    }
  ],
  "metadata": {
    "colab": {
      "name": "Welcome To Colab",
      "toc_visible": true,
      "provenance": [],
      "include_colab_link": true
    },
    "kernelspec": {
      "display_name": "Python 3",
      "name": "python3"
    }
  },
  "nbformat": 4,
  "nbformat_minor": 0
}