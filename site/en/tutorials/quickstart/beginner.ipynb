{
  "cells": [
    {
      "cell_type": "code",
      "source": [
        "import tensorflow  as tf\n",
        "import tensorflow_datasets as tfds"
      ],
      "metadata": {
        "id": "mj2uXWPOgw-i"
      },
      "execution_count": 68,
      "outputs": []
    },
    {
      "cell_type": "code",
      "source": [
        "datos, metadatos=tfds.load('fashion_mnist', as_supervised=True,with_info=True)\n"
      ],
      "metadata": {
        "id": "CsF8Mlh6iGAK"
      },
      "execution_count": 69,
      "outputs": []
    },
    {
      "cell_type": "code",
      "source": [
        "metadatos"
      ],
      "metadata": {
        "colab": {
          "base_uri": "https://localhost:8080/"
        },
        "id": "FLmsB1YdjR-t",
        "outputId": "ef39c89c-b6e3-496a-8db9-f80bb974d824"
      },
      "execution_count": 70,
      "outputs": [
        {
          "output_type": "execute_result",
          "data": {
            "text/plain": [
              "tfds.core.DatasetInfo(\n",
              "    name='fashion_mnist',\n",
              "    full_name='fashion_mnist/3.0.1',\n",
              "    description=\"\"\"\n",
              "    Fashion-MNIST is a dataset of Zalando's article images consisting of a training set of 60,000 examples and a test set of 10,000 examples. Each example is a 28x28 grayscale image, associated with a label from 10 classes.\n",
              "    \"\"\",\n",
              "    homepage='https://github.com/zalandoresearch/fashion-mnist',\n",
              "    data_dir='/root/tensorflow_datasets/fashion_mnist/3.0.1',\n",
              "    file_format=tfrecord,\n",
              "    download_size=29.45 MiB,\n",
              "    dataset_size=36.42 MiB,\n",
              "    features=FeaturesDict({\n",
              "        'image': Image(shape=(28, 28, 1), dtype=uint8),\n",
              "        'label': ClassLabel(shape=(), dtype=int64, num_classes=10),\n",
              "    }),\n",
              "    supervised_keys=('image', 'label'),\n",
              "    disable_shuffling=False,\n",
              "    nondeterministic_order=False,\n",
              "    splits={\n",
              "        'test': <SplitInfo num_examples=10000, num_shards=1>,\n",
              "        'train': <SplitInfo num_examples=60000, num_shards=1>,\n",
              "    },\n",
              "    citation=\"\"\"@article{DBLP:journals/corr/abs-1708-07747,\n",
              "      author    = {Han Xiao and\n",
              "                   Kashif Rasul and\n",
              "                   Roland Vollgraf},\n",
              "      title     = {Fashion-MNIST: a Novel Image Dataset for Benchmarking Machine Learning\n",
              "                   Algorithms},\n",
              "      journal   = {CoRR},\n",
              "      volume    = {abs/1708.07747},\n",
              "      year      = {2017},\n",
              "      url       = {http://arxiv.org/abs/1708.07747},\n",
              "      archivePrefix = {arXiv},\n",
              "      eprint    = {1708.07747},\n",
              "      timestamp = {Mon, 13 Aug 2018 16:47:27 +0200},\n",
              "      biburl    = {https://dblp.org/rec/bib/journals/corr/abs-1708-07747},\n",
              "      bibsource = {dblp computer science bibliography, https://dblp.org}\n",
              "    }\"\"\",\n",
              ")"
            ]
          },
          "metadata": {},
          "execution_count": 70
        }
      ]
    },
    {
      "cell_type": "code",
      "source": [
        "datos_entrenamiento,datos_pruebas=datos['train'],datos['test']"
      ],
      "metadata": {
        "id": "iNf5mbCgjzVK"
      },
      "execution_count": 71,
      "outputs": []
    },
    {
      "cell_type": "code",
      "source": [
        "nombre_clases =metadatos.features['label'].names"
      ],
      "metadata": {
        "id": "qXRwlO9PkMAc"
      },
      "execution_count": 72,
      "outputs": []
    },
    {
      "cell_type": "code",
      "source": [
        "nombre_clases"
      ],
      "metadata": {
        "colab": {
          "base_uri": "https://localhost:8080/"
        },
        "id": "USJC1FfqketK",
        "outputId": "ea0c571f-cf40-402b-d34c-048e95bbc6a4"
      },
      "execution_count": 73,
      "outputs": [
        {
          "output_type": "execute_result",
          "data": {
            "text/plain": [
              "['T-shirt/top',\n",
              " 'Trouser',\n",
              " 'Pullover',\n",
              " 'Dress',\n",
              " 'Coat',\n",
              " 'Sandal',\n",
              " 'Shirt',\n",
              " 'Sneaker',\n",
              " 'Bag',\n",
              " 'Ankle boot']"
            ]
          },
          "metadata": {},
          "execution_count": 73
        }
      ]
    },
    {
      "cell_type": "code",
      "source": [
        "#nonmralizar los datos (pasar de 0-255 a 0-1)\n",
        "\n",
        "def normalizer(imagenes,etiquetas):\n",
        "  imagenes=tf.cast(imagenes,tf.float32)\n",
        "  imagenes/=255 #aqui pasamos de 0-255 a 0-1\n",
        "  return imagenes ,etiquetas\n",
        "\n",
        " #Normalizamos nuestros datos\n",
        "datos_entrenamiento=datos_entrenamiento.map(normalizer)\n",
        "datos_pruebas=datos_pruebas.map(normalizer)\n",
        "\n",
        "#guardamos en cache\n",
        "datos_entrenamiento=datos_entrenamiento.cache()\n",
        "datos_pruebas=datos_pruebas.cache()\n"
      ],
      "metadata": {
        "id": "bymZ_pJlkm4g"
      },
      "execution_count": 74,
      "outputs": []
    },
    {
      "cell_type": "code",
      "source": [
        "#creamos  entradas de modelo\n",
        "modelo=tf.keras.Sequential([\n",
        "\n",
        "tf.keras.layers.Flatten(input_shape=(28,28,1)),#1 blanco ynegro\n",
        "tf.keras.layers.Dense(50,activation=tf.nn.relu),\n",
        "tf.keras.layers.Dense(50,activation=tf.nn.relu),\n",
        "tf.keras.layers.Dense(10,activation=tf.nn.softmax)# funcion para asegurar que siempre nos de 1\n",
        "\n",
        "])"
      ],
      "metadata": {
        "id": "JhgqeZ-3mzoP"
      },
      "execution_count": 75,
      "outputs": []
    },
    {
      "cell_type": "code",
      "source": [
        "# copilar modelo\n",
        "modelo.compile(\n",
        "    optimizer='adam',\n",
        "    loss=tf.keras.losses.SparseCategoricalCrossentropy(),\n",
        "     metrics=['accuracy']\n",
        "\n",
        ")"
      ],
      "metadata": {
        "id": "xeioBWJmoZXM"
      },
      "execution_count": 76,
      "outputs": []
    },
    {
      "cell_type": "code",
      "source": [
        "num_ej_enetrenamiento= metadatos.splits['train'].num_examples\n",
        "num_ej_pruebas= metadatos.splits['test'].num_examples\n"
      ],
      "metadata": {
        "id": "vMuxarqRp7vn"
      },
      "execution_count": 77,
      "outputs": []
    },
    {
      "cell_type": "code",
      "source": [
        "print(num_ej_enetrenamiento)\n",
        "print(num_ej_pruebas)"
      ],
      "metadata": {
        "colab": {
          "base_uri": "https://localhost:8080/"
        },
        "id": "IC_Y368vqiNV",
        "outputId": "55fc06cc-33af-4091-c37a-23338d2cbb77"
      },
      "execution_count": 78,
      "outputs": [
        {
          "output_type": "stream",
          "name": "stdout",
          "text": [
            "60000\n",
            "10000\n"
          ]
        }
      ]
    },
    {
      "cell_type": "code",
      "source": [
        "TAMANO_LOTE=32\n",
        "datos_entrenamiento=datos_entrenamiento.repeat().shuffle(num_ej_enetrenamiento).batch(TAMANO_LOTE)\n",
        "datos_pruebas=datos_pruebas.batch(TAMANO_LOTE)"
      ],
      "metadata": {
        "id": "w4WcoPGKpJ0b"
      },
      "execution_count": 79,
      "outputs": []
    },
    {
      "cell_type": "code",
      "source": [
        "import math\n",
        "#entrenamiento modelo\n",
        "\n",
        "historial = modelo.fit(datos_entrenamiento)"
      ],
      "metadata": {
        "collapsed": true,
        "id": "7ewaEfIrriPW",
        "outputId": "a506ad3b-9e46-4097-8250-974b5bcc5354",
        "colab": {
          "base_uri": "https://localhost:8080/"
        }
      },
      "execution_count": null,
      "outputs": [
        {
          "output_type": "stream",
          "name": "stdout",
          "text": [
            " 366201/Unknown \u001b[1m847s\u001b[0m 2ms/step - accuracy: 0.9308 - loss: 0.1865"
          ]
        }
      ]
    }
  ],
  "metadata": {
    "colab": {
      "name": "beginner.ipynb",
      "provenance": []
    },
    "kernelspec": {
      "display_name": "Python 3",
      "name": "python3"
    }
  },
  "nbformat": 4,
  "nbformat_minor": 0
}